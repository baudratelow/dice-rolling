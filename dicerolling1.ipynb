{
 "cells": [
  {
   "cell_type": "markdown",
   "metadata": {},
   "source": [
    "# Notebook of Various Dice-Rolling Scenarios and Programs\n",
    "\n"
   ]
  },
  {
   "cell_type": "markdown",
   "metadata": {
    "collapsed": true
   },
   "source": [
    "## Program to answer the question: What is the experimental probability of getting a sum of 10 or more when rolling 3 dice?\n",
    "__Method:__ \n",
    "1. Generate 3 random numbers using: ```random.randint (1,6)```\n",
    "2. Sum the 3 random numbers\n",
    "3. Check for value of 10 or more\n",
    "4. Record number of rolls with sums of 10 or more.\n",
    "5. Divide rolls with sums of 10 or more over total number of rolls\n",
    "---\n",
    "*Notes and additional functionality:*\n",
    "\n",
    "-  Number of trials is controlled by `for x in range(0, number` for loop.\n",
    "-  Total number of trials can be repeated using 'for dd in range(0, number)` for loop.\n",
    "-  `timeit.timer()` is used to measure the amount of time taken in for loop that generates given number of trials.\n"
   ]
  },
  {
   "cell_type": "code",
   "execution_count": 1,
   "metadata": {
    "collapsed": true
   },
   "outputs": [],
   "source": [
    "import random \n",
    "import datetime as dt\n",
    "import time\n",
    "from timeit import default_timer as timer"
   ]
  },
  {
   "cell_type": "code",
   "execution_count": 5,
   "metadata": {},
   "outputs": [
    {
     "name": "stdout",
     "output_type": "stream",
     "text": [
      "313237 wins out of 500000 rolls = 62.6%\n",
      "2.125 seconds elapsed.\n"
     ]
    }
   ],
   "source": [
    "# The purpose of this program is to determine the experimental probability \n",
    "# of 3 dice rolling 10 or more.\n",
    "# 3 random numbers from 1 to 6 are generated and sum checked to determine value of 10 or more.\n",
    "# If so a counter is incremented.\n",
    "# The total number of trials is defined by x in the for x in range (0, number) loop\n",
    "# The experimental probability is calculated by dividing the number of rolls with a sum of\n",
    "# 10 or more by the total number of trials.\n",
    "#\n",
    "# The dd in range(0, number) loop allows repetition of the full calculation.\n",
    "#\n",
    "#\n",
    "Score = 0\n",
    "for dd in range(0,1): # this loop allows the \n",
    "    starttime = timer()\n",
    "    for x in range(0, 500000):\n",
    "#        starttime = dt.datetime.now()\n",
    "#        starttime = time.time()\n",
    "#        starttime = timer()\n",
    "        Die1 = 1.0 * random.randint (1,6)\n",
    "        Die2 = 1.0 * random.randint (1,6)\n",
    "        Die3 = 1.0 * random.randint (1,6)\n",
    "        RollSum = Die1 + Die2 + Die3\n",
    "        Rolls = x + 1\n",
    "        if RollSum >= 10:\n",
    "            Score = (Score + 1.0)\n",
    "    Prob = (Score/Rolls)*100.0\n",
    "    print '{0:.0f} wins out of {1} rolls = {2:.1f}%'.format(Score, Rolls, Prob)\n",
    "#    endtime = dt.datetime.now()\n",
    "#    endtime = time.time()\n",
    "    endtime = timer()\n",
    "    deltaT = endtime - starttime\n",
    "    print '{0:.3f} seconds elapsed.'.format(deltaT)\n",
    "    Rolls = 0\n",
    "    Score = 0\n",
    "    Prob = 0\n"
   ]
  },
  {
   "cell_type": "code",
   "execution_count": null,
   "metadata": {
    "collapsed": true
   },
   "outputs": [],
   "source": []
  }
 ],
 "metadata": {
  "kernelspec": {
   "display_name": "Python 2",
   "language": "python",
   "name": "python2"
  },
  "language_info": {
   "codemirror_mode": {
    "name": "ipython",
    "version": 2
   },
   "file_extension": ".py",
   "mimetype": "text/x-python",
   "name": "python",
   "nbconvert_exporter": "python",
   "pygments_lexer": "ipython2",
   "version": "2.7.13"
  }
 },
 "nbformat": 4,
 "nbformat_minor": 2
}
